{
 "cells": [
  {
   "cell_type": "code",
   "execution_count": 32,
   "metadata": {},
   "outputs": [],
   "source": [
    "import pandas as pd\n",
    "from datetime import datetime"
   ]
  },
  {
   "cell_type": "code",
   "execution_count": 33,
   "metadata": {},
   "outputs": [],
   "source": [
    "google = pd.read_csv(\"google_final.csv\")\n",
    "google['reviewTime'] = pd.to_datetime(google['reviewTime'],format = '%b %d, %Y')\n",
    "google = google[google['categories'].str.contains(\"Restaurant\", na=False)]"
   ]
  },
  {
   "cell_type": "code",
   "execution_count": 34,
   "metadata": {},
   "outputs": [],
   "source": [
    "btracts = pd.read_csv(\"business_to_tract.csv\")\n",
    "google = pd.merge(google,btracts,on=\"gPlusPlaceId\",how=\"left\")\n",
    "google =google[google['index_right'].isna()==False]\n",
    "google = pd.merge(google,google.groupby('index_right').agg({'gPlusPlaceId':'count'}).rename(columns={'gPlusPlaceId':'competition'}),on='index_right')\n",
    "google = pd.merge(google,google.groupby('gPlusPlaceId').agg({'reviewTime':'max'}).rename(columns={'reviewTime':'lastReview'}),on='gPlusPlaceId')\n",
    "google = pd.merge(google,google.groupby('gPlusPlaceId').agg({'reviewTime':'min'}).rename(columns={'reviewTime':'firstReview'}),on='gPlusPlaceId')"
   ]
  },
  {
   "cell_type": "code",
   "execution_count": 35,
   "metadata": {},
   "outputs": [],
   "source": [
    "google = google.rename(columns={'index_right':'CT_index'})\n",
    "google=google[(google['reviewTime']<\"2013-01-01\")]\n",
    "google= google.groupby('gPlusPlaceId').agg({'rating':['mean','count'], 'closed':'first','lastReview':'first','firstReview':'first','CT_index':'first','competition':'first',})\n",
    "google.columns = [\"_\".join(x) for x in google.columns.ravel()]\n",
    "google['closed_label']=(google['closed_first']) & (google['lastReview_first']<\"2013-06-01\")\n",
    "google['age'] = (google['lastReview_first']- google['firstReview_first']).dt.days"
   ]
  },
  {
   "cell_type": "code",
   "execution_count": 36,
   "metadata": {},
   "outputs": [],
   "source": [
    "google['closed_label']=(google['closed_first']) & (google['lastReview_first']<\"2013-06-01\")\n",
    "google = google.rename(columns={'CT_index_first':'CT'})"
   ]
  },
  {
   "cell_type": "code",
   "execution_count": 37,
   "metadata": {},
   "outputs": [],
   "source": [
    "taxi = pd.read_csv(\"taxi_2012_final.csv\")"
   ]
  },
  {
   "cell_type": "code",
   "execution_count": 38,
   "metadata": {},
   "outputs": [],
   "source": [
    "google = pd.merge(google, taxi, on='CT')"
   ]
  },
  {
   "cell_type": "code",
   "execution_count": 39,
   "metadata": {},
   "outputs": [],
   "source": [
    "# google_2011 =google[(google['reviewTime']>=\"2011-01-01\") & (google['reviewTime']<\"2012-01-01\")]\n",
    "# google_2011 = google_2011.groupby('gPlusPlaceId').agg({'rating':['mean','count'], 'closed':'first','lastReview':'first','CT_index':'first','competition':'first'})\n",
    "# google_2011.columns = [\"_\".join(x) for x in google_2011.columns.ravel()]\n",
    "# google_2011['closed_label']=(google_2011['closed_first']) & (google_2011['lastReview_first']<\"2012-06-01\")"
   ]
  },
  {
   "cell_type": "code",
   "execution_count": 40,
   "metadata": {},
   "outputs": [],
   "source": [
    "# google_2012 =google[(google['reviewTime']>=\"2012-01-01\") & (google['reviewTime']<\"2013-01-01\")]\n",
    "# google_2012 = google_2012.groupby('gPlusPlaceId').agg({'rating':['mean','count'], 'closed':'first','lastReview':'first','CT_index':'first','competition':'first'})\n",
    "# google_2012.columns = [\"_\".join(x) for x in google_2012.columns.ravel()]\n",
    "# google_2012['closed_label']=(google_2012['closed_first']) & (google_2012['lastReview_first']<\"2013-06-01\")"
   ]
  },
  {
   "cell_type": "code",
   "execution_count": 41,
   "metadata": {},
   "outputs": [],
   "source": [
    "# google_2013 =google[(google['reviewTime']>=\"2013-01-01\") & (google['reviewTime']<\"2014-01-01\")]\n",
    "# google_2013 = google_2013.groupby('gPlusPlaceId').agg({'rating':['mean','count'], 'closed':'first','lastReview':'first','CT_index':'first','competition':'first'})\n",
    "# google_2013.columns = [\"_\".join(x) for x in google_2013.columns.ravel()]\n",
    "# google_2013['closed_label']=(google_2013['closed_first']) & (google_2013['lastReview_first']<\"2014-06-01\")"
   ]
  },
  {
   "cell_type": "code",
   "execution_count": 42,
   "metadata": {},
   "outputs": [],
   "source": [
    "# google_2014 =google[(google['reviewTime']>=\"2014-01-01\") & (google['reviewTime']<\"2015-01-01\")]\n",
    "# google_2014 = google_2014.groupby('gPlusPlaceId').agg({'rating':['mean','count'], 'closed':'first','lastReview':'first','CT_index':'first','competition':'first'})\n",
    "# google_2014.columns = [\"_\".join(x) for x in google_2014.columns.ravel()]\n",
    "# google_2014['closed_label']=(google_2014['closed_first']) & (google_2014['lastReview_first']<\"2015-06-01\")"
   ]
  },
  {
   "cell_type": "code",
   "execution_count": 43,
   "metadata": {},
   "outputs": [],
   "source": [
    "# google_2011.to_csv(\"google_2011_features.csv\")\n",
    "# google_2012.to_csv(\"google_2012_features.csv\")\n",
    "# google_2013.to_csv(\"google_2013_features.csv\")\n",
    "# google_2014.to_csv(\"google_2014_features.csv\")"
   ]
  },
  {
   "cell_type": "code",
   "execution_count": null,
   "metadata": {},
   "outputs": [],
   "source": []
  },
  {
   "cell_type": "code",
   "execution_count": 44,
   "metadata": {},
   "outputs": [
    {
     "data": {
      "text/html": [
       "<div>\n",
       "<style scoped>\n",
       "    .dataframe tbody tr th:only-of-type {\n",
       "        vertical-align: middle;\n",
       "    }\n",
       "\n",
       "    .dataframe tbody tr th {\n",
       "        vertical-align: top;\n",
       "    }\n",
       "\n",
       "    .dataframe thead th {\n",
       "        text-align: right;\n",
       "    }\n",
       "</style>\n",
       "<table border=\"1\" class=\"dataframe\">\n",
       "  <thead>\n",
       "    <tr style=\"text-align: right;\">\n",
       "      <th></th>\n",
       "      <th>rating_mean</th>\n",
       "      <th>rating_count</th>\n",
       "      <th>closed_first</th>\n",
       "      <th>lastReview_first</th>\n",
       "      <th>firstReview_first</th>\n",
       "      <th>CT</th>\n",
       "      <th>competition_first</th>\n",
       "      <th>closed_label</th>\n",
       "      <th>age</th>\n",
       "      <th>index_right</th>\n",
       "      <th>count_dropoffs</th>\n",
       "      <th>passenger_count</th>\n",
       "    </tr>\n",
       "  </thead>\n",
       "  <tbody>\n",
       "    <tr>\n",
       "      <th>0</th>\n",
       "      <td>4.190476</td>\n",
       "      <td>42</td>\n",
       "      <td>False</td>\n",
       "      <td>2014-03-16</td>\n",
       "      <td>2005-03-30</td>\n",
       "      <td>1879.0</td>\n",
       "      <td>1891</td>\n",
       "      <td>False</td>\n",
       "      <td>3273</td>\n",
       "      <td>1879.0</td>\n",
       "      <td>1064484</td>\n",
       "      <td>1831910</td>\n",
       "    </tr>\n",
       "    <tr>\n",
       "      <th>1</th>\n",
       "      <td>4.000000</td>\n",
       "      <td>2</td>\n",
       "      <td>True</td>\n",
       "      <td>2012-02-27</td>\n",
       "      <td>2011-11-12</td>\n",
       "      <td>1879.0</td>\n",
       "      <td>1891</td>\n",
       "      <td>True</td>\n",
       "      <td>107</td>\n",
       "      <td>1879.0</td>\n",
       "      <td>1064484</td>\n",
       "      <td>1831910</td>\n",
       "    </tr>\n",
       "    <tr>\n",
       "      <th>2</th>\n",
       "      <td>4.200000</td>\n",
       "      <td>10</td>\n",
       "      <td>False</td>\n",
       "      <td>2014-02-23</td>\n",
       "      <td>2010-09-14</td>\n",
       "      <td>1879.0</td>\n",
       "      <td>1891</td>\n",
       "      <td>False</td>\n",
       "      <td>1258</td>\n",
       "      <td>1879.0</td>\n",
       "      <td>1064484</td>\n",
       "      <td>1831910</td>\n",
       "    </tr>\n",
       "  </tbody>\n",
       "</table>\n",
       "</div>"
      ],
      "text/plain": [
       "   rating_mean  rating_count  closed_first lastReview_first firstReview_first  \\\n",
       "0     4.190476            42         False       2014-03-16        2005-03-30   \n",
       "1     4.000000             2          True       2012-02-27        2011-11-12   \n",
       "2     4.200000            10         False       2014-02-23        2010-09-14   \n",
       "\n",
       "       CT  competition_first  closed_label   age  index_right  count_dropoffs  \\\n",
       "0  1879.0               1891         False  3273       1879.0         1064484   \n",
       "1  1879.0               1891          True   107       1879.0         1064484   \n",
       "2  1879.0               1891         False  1258       1879.0         1064484   \n",
       "\n",
       "   passenger_count  \n",
       "0          1831910  \n",
       "1          1831910  \n",
       "2          1831910  "
      ]
     },
     "execution_count": 44,
     "metadata": {},
     "output_type": "execute_result"
    }
   ],
   "source": [
    "google.head(3)"
   ]
  },
  {
   "cell_type": "code",
   "execution_count": 45,
   "metadata": {},
   "outputs": [
    {
     "name": "stdout",
     "output_type": "stream",
     "text": [
      "Accuracy:  0.8821603927986906\n"
     ]
    },
    {
     "name": "stderr",
     "output_type": "stream",
     "text": [
      "C:\\ProgramData\\Anaconda3\\lib\\site-packages\\sklearn\\linear_model\\logistic.py:433: FutureWarning: Default solver will be changed to 'lbfgs' in 0.22. Specify a solver to silence this warning.\n",
      "  FutureWarning)\n"
     ]
    }
   ],
   "source": [
    "from sklearn.linear_model import LogisticRegression\n",
    "from sklearn import datasets, linear_model\n",
    "from sklearn.model_selection import train_test_split\n",
    "from matplotlib import pyplot as plt\n",
    "import numpy as np\n",
    "from sklearn.metrics import average_precision_score\n",
    "from sklearn.metrics import roc_curve\n",
    "from sklearn.metrics import roc_auc_score\n",
    "from sklearn.metrics import accuracy_score, f1_score, precision_score, recall_score, classification_report, confusion_matrix\n",
    "\n",
    "x_cols = ['rating_mean', 'rating_count', 'competition_first','count_dropoffs', 'passenger_count','age']\n",
    "y_cols = ['closed_label']\n",
    "\n",
    "X_train, X_test, y_train, y_test = train_test_split(google[x_cols], google['closed_label'], test_size=0.2)\n",
    "LR= LogisticRegression()\n",
    "LR.fit(X_train,y_train)\n",
    "print(\"Accuracy: \",LR.score(X_test,y_test))\n",
    "\n",
    "\n"
   ]
  },
  {
   "cell_type": "code",
   "execution_count": 46,
   "metadata": {},
   "outputs": [
    {
     "name": "stdout",
     "output_type": "stream",
     "text": [
      "0.3856396383109631\n",
      "52\n",
      "175\n"
     ]
    }
   ],
   "source": [
    "predictions = LR.predict(X_test)\n",
    "# print(np.sum(predictions==True))\n",
    "preds = y_test.to_frame()\n",
    "preds['prediction'] = predictions\n",
    "correct = preds[(preds['closed_label']==True)&(preds['closed_label']==preds['prediction'])].shape[0]\n",
    "total = (preds[preds['closed_label']==True]).shape[0]\n",
    "y_score = LR.decision_function(X_test)\n",
    "average_precision = average_precision_score(y_test, y_score)\n",
    "print(average_precision)\n",
    "print(correct)\n",
    "print(total)"
   ]
  },
  {
   "cell_type": "code",
   "execution_count": 61,
   "metadata": {},
   "outputs": [
    {
     "name": "stdout",
     "output_type": "stream",
     "text": [
      "No Skill: ROC AUC=0.500\n",
      "Logistic: ROC AUC=0.781\n"
     ]
    }
   ],
   "source": [
    "lr_probs = LR.predict_proba(X_test)\n",
    "# keep probabilities for the positive outcome only\n",
    "lr_probs = lr_probs[:, 1]\n",
    "ns_probs = [0 for _ in range(len(y_test))]\n",
    "ns_auc = roc_auc_score(y_test, ns_probs)\n",
    "lr_auc = roc_auc_score(y_test, lr_probs)\n",
    "print('No Skill: ROC AUC=%.3f' % (ns_auc))\n",
    "print('Logistic: ROC AUC=%.3f' % (lr_auc))\n",
    "ns_fpr, ns_tpr, _ = roc_curve(y_test, ns_probs)\n",
    "lr_fpr, lr_tpr, _ = roc_curve(y_test, lr_probs)"
   ]
  },
  {
   "cell_type": "code",
   "execution_count": 93,
   "metadata": {},
   "outputs": [
    {
     "data": {
      "text/plain": [
       "array([[1565,   93],\n",
       "       [ 123,   52]], dtype=int64)"
      ]
     },
     "execution_count": 93,
     "metadata": {},
     "output_type": "execute_result"
    }
   ],
   "source": [
    "# calculate roc curves\n",
    "confusion_matrix(y_test,predictions)"
   ]
  },
  {
   "cell_type": "code",
   "execution_count": 51,
   "metadata": {},
   "outputs": [
    {
     "data": {
      "text/plain": [
       "<matplotlib.legend.Legend at 0x1f832116908>"
      ]
     },
     "execution_count": 51,
     "metadata": {},
     "output_type": "execute_result"
    },
    {
     "data": {
      "image/png": "[encoded data removed]",
      "text/plain": [
       "<Figure size 432x288 with 1 Axes>"
      ]
     },
     "metadata": {
      "needs_background": "light"
     },
     "output_type": "display_data"
    }
   ],
   "source": [
    "plt.plot(ns_fpr, ns_tpr, linestyle='--', label='No Skill')\n",
    "plt.plot(lr_fpr, lr_tpr, marker='.', label='Logistic')\n",
    "# axis labels\n",
    "plt.xlabel('False Positive Rate')\n",
    "plt.ylabel('True Positive Rate')\n",
    "# show the legend\n",
    "plt.legend()"
   ]
  },
  {
   "cell_type": "code",
   "execution_count": 52,
   "metadata": {},
   "outputs": [
    {
     "name": "stdout",
     "output_type": "stream",
     "text": [
      "0.7809891435464414\n",
      "0.5\n"
     ]
    }
   ],
   "source": [
    "print(lr_auc)\n",
    "print(ns_auc)"
   ]
  },
  {
   "cell_type": "code",
   "execution_count": 53,
   "metadata": {},
   "outputs": [
    {
     "name": "stdout",
     "output_type": "stream",
     "text": [
      "0.6302226539151226\n",
      "0.6428766955384867\n",
      "0.6205255902119593\n"
     ]
    }
   ],
   "source": [
    "print(f1_score(y_test, predictions, average=\"macro\"))\n",
    "print(precision_score(y_test, predictions, average=\"macro\"))\n",
    "print(recall_score(y_test, predictions, average=\"macro\"))   "
   ]
  },
  {
   "cell_type": "code",
   "execution_count": 54,
   "metadata": {},
   "outputs": [],
   "source": [
    "from sklearn.feature_selection import SelectKBest\n",
    "selector = SelectKBest(LogisticRegression, k='all').fit(X_train,y_train)\n",
    "# x_new = selector.transform(X) # not needed to get the sc?ore\n",
    "scores = selector.scores_"
   ]
  },
  {
   "cell_type": "code",
   "execution_count": 55,
   "metadata": {},
   "outputs": [
    {
     "name": "stdout",
     "output_type": "stream",
     "text": [
      "              precision    recall  f1-score   support\n",
      "\n",
      "       False       0.93      0.94      0.94      1658\n",
      "        True       0.36      0.30      0.32       175\n",
      "\n",
      "   micro avg       0.88      0.88      0.88      1833\n",
      "   macro avg       0.64      0.62      0.63      1833\n",
      "weighted avg       0.87      0.88      0.88      1833\n",
      "\n"
     ]
    }
   ],
   "source": [
    "print(classification_report(y_test, predictions))"
   ]
  },
  {
   "cell_type": "code",
   "execution_count": 56,
   "metadata": {},
   "outputs": [
    {
     "name": "stdout",
     "output_type": "stream",
     "text": [
      "[ True  True  True  True False  True]\n",
      "[1 1 1 1 2 1]\n"
     ]
    },
    {
     "name": "stderr",
     "output_type": "stream",
     "text": [
      "C:\\ProgramData\\Anaconda3\\lib\\site-packages\\sklearn\\linear_model\\logistic.py:433: FutureWarning: Default solver will be changed to 'lbfgs' in 0.22. Specify a solver to silence this warning.\n",
      "  FutureWarning)\n",
      "C:\\ProgramData\\Anaconda3\\lib\\site-packages\\sklearn\\linear_model\\logistic.py:433: FutureWarning: Default solver will be changed to 'lbfgs' in 0.22. Specify a solver to silence this warning.\n",
      "  FutureWarning)\n"
     ]
    }
   ],
   "source": [
    "from sklearn.feature_selection import RFE\n",
    "rfe = RFE(LogisticRegression(), 5)\n",
    "rfe = rfe.fit(X_train, y_train)\n",
    "# summarize the selection of the attributes\n",
    "print(rfe.support_)\n",
    "print(rfe.ranking_)"
   ]
  },
  {
   "cell_type": "code",
   "execution_count": 57,
   "metadata": {},
   "outputs": [
    {
     "data": {
      "text/plain": [
       "['rating_mean',\n",
       " 'rating_count',\n",
       " 'competition_first',\n",
       " 'count_dropoffs',\n",
       " 'passenger_count',\n",
       " 'age']"
      ]
     },
     "execution_count": 57,
     "metadata": {},
     "output_type": "execute_result"
    }
   ],
   "source": [
    "LR.coef_.T\n",
    "x_cols"
   ]
  },
  {
   "cell_type": "code",
   "execution_count": 58,
   "metadata": {},
   "outputs": [],
   "source": [
    "feature_importance = pd.DataFrame()\n",
    "feature_importance['Feature'] = x_cols\n",
    "feature_importance['Feature Importance'] = LR.coef_.T"
   ]
  },
  {
   "cell_type": "code",
   "execution_count": 59,
   "metadata": {},
   "outputs": [
    {
     "data": {
      "text/html": [
       "<div>\n",
       "<style scoped>\n",
       "    .dataframe tbody tr th:only-of-type {\n",
       "        vertical-align: middle;\n",
       "    }\n",
       "\n",
       "    .dataframe tbody tr th {\n",
       "        vertical-align: top;\n",
       "    }\n",
       "\n",
       "    .dataframe thead th {\n",
       "        text-align: right;\n",
       "    }\n",
       "</style>\n",
       "<table border=\"1\" class=\"dataframe\">\n",
       "  <thead>\n",
       "    <tr style=\"text-align: right;\">\n",
       "      <th></th>\n",
       "      <th>Feature</th>\n",
       "      <th>Feature Importance</th>\n",
       "    </tr>\n",
       "  </thead>\n",
       "  <tbody>\n",
       "    <tr>\n",
       "      <th>0</th>\n",
       "      <td>rating_mean</td>\n",
       "      <td>-4.133428e-05</td>\n",
       "    </tr>\n",
       "    <tr>\n",
       "      <th>1</th>\n",
       "      <td>rating_count</td>\n",
       "      <td>-1.144163e-05</td>\n",
       "    </tr>\n",
       "    <tr>\n",
       "      <th>2</th>\n",
       "      <td>competition_first</td>\n",
       "      <td>3.759759e-04</td>\n",
       "    </tr>\n",
       "    <tr>\n",
       "      <th>3</th>\n",
       "      <td>count_dropoffs</td>\n",
       "      <td>-1.982718e-07</td>\n",
       "    </tr>\n",
       "    <tr>\n",
       "      <th>4</th>\n",
       "      <td>passenger_count</td>\n",
       "      <td>5.626287e-08</td>\n",
       "    </tr>\n",
       "    <tr>\n",
       "      <th>5</th>\n",
       "      <td>age</td>\n",
       "      <td>-2.780276e-03</td>\n",
       "    </tr>\n",
       "  </tbody>\n",
       "</table>\n",
       "</div>"
      ],
      "text/plain": [
       "             Feature  Feature Importance\n",
       "0        rating_mean       -4.133428e-05\n",
       "1       rating_count       -1.144163e-05\n",
       "2  competition_first        3.759759e-04\n",
       "3     count_dropoffs       -1.982718e-07\n",
       "4    passenger_count        5.626287e-08\n",
       "5                age       -2.780276e-03"
      ]
     },
     "execution_count": 59,
     "metadata": {},
     "output_type": "execute_result"
    }
   ],
   "source": [
    "feature_importance"
   ]
  },
  {
   "cell_type": "markdown",
   "metadata": {},
   "source": [
    "Random Forest Classifier"
   ]
  },
  {
   "cell_type": "code",
   "execution_count": 60,
   "metadata": {},
   "outputs": [
    {
     "name": "stdout",
     "output_type": "stream",
     "text": [
      "Accuracy:  0.9028914348063284\n"
     ]
    },
    {
     "name": "stderr",
     "output_type": "stream",
     "text": [
      "C:\\ProgramData\\Anaconda3\\lib\\site-packages\\sklearn\\ensemble\\forest.py:246: FutureWarning: The default value of n_estimators will change from 10 in version 0.20 to 100 in 0.22.\n",
      "  \"10 in version 0.20 to 100 in 0.22.\", FutureWarning)\n"
     ]
    }
   ],
   "source": [
    "from sklearn.ensemble import RandomForestClassifier\n",
    "RF= RandomForestClassifier()\n",
    "RF.fit(X_train,y_train)\n",
    "print(\"Accuracy: \",RF.score(X_test,y_test))"
   ]
  },
  {
   "cell_type": "code",
   "execution_count": 63,
   "metadata": {},
   "outputs": [
    {
     "name": "stdout",
     "output_type": "stream",
     "text": [
      "0.3856396383109631\n",
      "47\n",
      "175\n"
     ]
    }
   ],
   "source": [
    "RF_predictions = RF.predict(X_test)\n",
    "# print(np.sum(predictions==True))\n",
    "RF_preds = y_test.to_frame()\n",
    "RF_preds['prediction'] = RF_predictions\n",
    "correct = RF_preds[(RF_preds['closed_label']==True)&(RF_preds['closed_label']==RF_preds['prediction'])].shape[0]\n",
    "total = (RF_preds[RF_preds['closed_label']==True]).shape[0]\n",
    "\n",
    "print(average_precision)\n",
    "print(correct)\n",
    "print(total)"
   ]
  },
  {
   "cell_type": "code",
   "execution_count": 64,
   "metadata": {},
   "outputs": [
    {
     "name": "stdout",
     "output_type": "stream",
     "text": [
      "No Skill: ROC AUC=0.500\n",
      "Logistic: ROC AUC=0.763\n"
     ]
    }
   ],
   "source": [
    "RF_lr_probs = RF.predict_proba(X_test)\n",
    "# keep probabilities for the positive outcome only\n",
    "RF_lr_probs = RF_lr_probs[:, 1]\n",
    "RF_ns_probs = [0 for _ in range(len(y_test))]\n",
    "RF_ns_auc = roc_auc_score(y_test, RF_ns_probs)\n",
    "RF_lr_auc = roc_auc_score(y_test, RF_lr_probs)\n",
    "print('No Skill: ROC AUC=%.3f' % (RF_ns_auc))\n",
    "print('Logistic: ROC AUC=%.3f' % (RF_lr_auc))\n",
    "RF_ns_fpr, RF_ns_tpr, _ = roc_curve(y_test, RF_ns_probs)\n",
    "RF_lr_fpr, RF_lr_tpr, _ = roc_curve(y_test, RF_lr_probs)"
   ]
  },
  {
   "cell_type": "code",
   "execution_count": 66,
   "metadata": {},
   "outputs": [
    {
     "data": {
      "text/plain": [
       "<matplotlib.legend.Legend at 0x1f8338bffd0>"
      ]
     },
     "execution_count": 66,
     "metadata": {},
     "output_type": "execute_result"
    },
    {
     "data": {
      "image/png": "[encoded data removed]",
      "text/plain": [
       "<Figure size 432x288 with 1 Axes>"
      ]
     },
     "metadata": {
      "needs_background": "light"
     },
     "output_type": "display_data"
    }
   ],
   "source": [
    "plt.plot(ns_fpr, ns_tpr, linestyle='--', label='No Skill')\n",
    "plt.plot(lr_fpr, lr_tpr, marker='.', label='Logistic')\n",
    "plt.plot(RF_lr_fpr, RF_lr_tpr, marker='>', label='Random Forest')\n",
    "# axis labels\n",
    "plt.xlabel('False Positive Rate')\n",
    "plt.ylabel('True Positive Rate')\n",
    "# show the legend\n",
    "plt.legend()"
   ]
  },
  {
   "cell_type": "markdown",
   "metadata": {},
   "source": [
    "Neural Network"
   ]
  },
  {
   "cell_type": "code",
   "execution_count": 88,
   "metadata": {},
   "outputs": [
    {
     "name": "stdout",
     "output_type": "stream",
     "text": [
      "Accuracy:  0.8968903436988543\n"
     ]
    }
   ],
   "source": [
    "from sklearn.naive_bayes import GaussianNB\n",
    "NN= GaussianNB()\n",
    "NN.fit(X_train,y_train)\n",
    "print(\"Accuracy: \",NN.score(X_test,y_test))"
   ]
  },
  {
   "cell_type": "code",
   "execution_count": 89,
   "metadata": {},
   "outputs": [
    {
     "name": "stdout",
     "output_type": "stream",
     "text": [
      "20\n",
      "3\n",
      "175\n"
     ]
    }
   ],
   "source": [
    "NN_predictions = NN.predict(X_test)\n",
    "print(np.sum(NN_predictions==True))\n",
    "NN_preds = y_test.to_frame()\n",
    "NN_preds['prediction'] = NN_predictions\n",
    "correct = NN_preds[(NN_preds['closed_label']==True)&(NN_preds['closed_label']==NN_preds['prediction'])].shape[0]\n",
    "total = (NN_preds[NN_preds['closed_label']==True]).shape[0]\n",
    "\n",
    "print(correct)\n",
    "print(total)"
   ]
  },
  {
   "cell_type": "code",
   "execution_count": 90,
   "metadata": {},
   "outputs": [
    {
     "name": "stdout",
     "output_type": "stream",
     "text": [
      "No Skill: ROC AUC=0.500\n",
      "Logistic: ROC AUC=0.691\n"
     ]
    }
   ],
   "source": [
    "NN_lr_probs = NN.predict_proba(X_test)\n",
    "# keep probabilities for the positive outcome only\n",
    "NN_lr_probs = NN_lr_probs[:, 1]\n",
    "NN_ns_probs = [0 for _ in range(len(y_test))]\n",
    "NN_ns_auc = roc_auc_score(y_test, NN_ns_probs)\n",
    "NN_lr_auc = roc_auc_score(y_test, NN_lr_probs)\n",
    "print('No Skill: ROC AUC=%.3f' % (NN_ns_auc))\n",
    "print('Logistic: ROC AUC=%.3f' % (NN_lr_auc))\n",
    "NN_ns_fpr, NN_ns_tpr, _ = roc_curve(y_test, NN_ns_probs)\n",
    "NN_lr_fpr, NN_lr_tpr, _ = roc_curve(y_test, NN_lr_probs)"
   ]
  },
  {
   "cell_type": "code",
   "execution_count": 92,
   "metadata": {},
   "outputs": [
    {
     "data": {
      "text/plain": [
       "<matplotlib.legend.Legend at 0x1f83349ea58>"
      ]
     },
     "execution_count": 92,
     "metadata": {},
     "output_type": "execute_result"
    },
    {
     "data": {
      "image/png": "[encoded data removed]",
      "text/plain": [
       "<Figure size 432x288 with 1 Axes>"
      ]
     },
     "metadata": {
      "needs_background": "light"
     },
     "output_type": "display_data"
    }
   ],
   "source": [
    "plt.plot(ns_fpr, ns_tpr, linestyle='--', label='No Skill')\n",
    "plt.plot(lr_fpr, lr_tpr, marker='.', label='Logistic')\n",
    "plt.plot(RF_lr_fpr, RF_lr_tpr, marker='>', label='Random Forest')\n",
    "plt.plot(NN_lr_fpr, NN_lr_tpr, marker='+', label='Naive Bayes')\n",
    "# axis labels\n",
    "plt.xlabel('False Positive Rate')\n",
    "plt.ylabel('True Positive Rate')\n",
    "# show the legend\n",
    "plt.legend()"
   ]
  },
  {
   "cell_type": "code",
   "execution_count": null,
   "metadata": {},
   "outputs": [],
   "source": []
  }
 ],
 "metadata": {
  "kernelspec": {
   "display_name": "Python 3",
   "language": "python",
   "name": "python3"
  },
  "language_info": {
   "codemirror_mode": {
    "name": "ipython",
    "version": 3
   },
   "file_extension": ".py",
   "mimetype": "text/x-python",
   "name": "python",
   "nbconvert_exporter": "python",
   "pygments_lexer": "ipython3",
   "version": "3.7.1"
  }
 },
 "nbformat": 4,
 "nbformat_minor": 2
}
